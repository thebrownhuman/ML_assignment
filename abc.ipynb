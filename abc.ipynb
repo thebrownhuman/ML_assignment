{
 "cells": [
  {
   "cell_type": "code",
   "execution_count": null,
   "metadata": {
    "colab": {
     "base_uri": "https://localhost:8080/"
    },
    "id": "pT2Nm7wpd_82",
    "outputId": "cf944637-59d1-4d4d-cba7-d255c8e574b1"
   },
   "outputs": [
    {
     "name": "stdout",
     "output_type": "stream",
     "text": [
      "Input 10 comma seperated  numbers : 1,2,3,4,5,2,3,4,7,9,5\n",
      "[5, 4, 3, 2]\n"
     ]
    }
   ],
   "source": [
    "# Question-1\n",
    "\n",
    "a=input ('Input 10 comma seperated  numbers : ')\n",
    "a = tuple(int(x) for x in a.split(\",\"))\n",
    "i=0\n",
    "l=[]\n",
    "while(i<10):\n",
    "\n",
    "  if(a.count(a[i])>1):\n",
    "      if(a[i] not in l):\n",
    "       l.append(a[i])\n",
    "  i=i+1\n",
    "l.reverse()\n",
    "print(l)\n"
   ]
  },
  {
   "cell_type": "code",
   "execution_count": null,
   "metadata": {
    "colab": {
     "base_uri": "https://localhost:8080/"
    },
    "id": "yGNpgn7seIyt",
    "outputId": "4cecff60-71d3-4f19-b7bc-3be444d823b1"
   },
   "outputs": [
    {
     "name": "stdout",
     "output_type": "stream",
     "text": [
      "45\n",
      "1\n",
      "5\n"
     ]
    }
   ],
   "source": [
    "# Question-2\n",
    "\n",
    "tuple1 = (1,2,3,4,45)\n",
    "print(max(tuple1))\n",
    "print(min(tuple1))\n",
    "print(len(tuple1))"
   ]
  },
  {
   "cell_type": "code",
   "execution_count": null,
   "metadata": {
    "colab": {
     "base_uri": "https://localhost:8080/"
    },
    "id": "_xJqkoylfEv-",
    "outputId": "48954031-ce94-4a69-d040-b43f70f25983"
   },
   "outputs": [
    {
     "name": "stdout",
     "output_type": "stream",
     "text": [
      "Input comma seperated  numbers : 1,2,3,4,5,6,7,8\n",
      "Even tuple: (2, 4, 6, 8)\n",
      "Odd odd: (1, 3, 5, 7)\n"
     ]
    }
   ],
   "source": [
    "# Question-3\n",
    "\n",
    "def Split(mix):\n",
    "    ev_li = []\n",
    "    od_li = []\n",
    "    for i in mix:\n",
    "        if (i % 2 == 0):\n",
    "            ev_li.append(i)\n",
    "        else:\n",
    "            od_li.append(i)\n",
    "    \n",
    "    print(\"Even tuple:\", tuple(ev_li))\n",
    "    print(\"Odd odd:\", tuple(od_li))\n",
    "  \n",
    "# Driver Code\n",
    "a=input ('Input comma seperated  numbers : ')\n",
    "a = tuple(int(x) for x in a.split(\",\"))\n",
    "Split(a)"
   ]
  },
  {
   "cell_type": "code",
   "execution_count": null,
   "metadata": {
    "colab": {
     "base_uri": "https://localhost:8080/"
    },
    "id": "y1jzGmUhftm3",
    "outputId": "130d5eab-0229-4d39-9666-9cf8529f950f"
   },
   "outputs": [
    {
     "name": "stdout",
     "output_type": "stream",
     "text": [
      "Input comma seperated  numbers : 1,1,1,1,2,2,2,2\n",
      "Print the number whose count is to be checked 2\n",
      "4 times present\n",
      "Enter the element to be whose index is to be found 2\n",
      "Element present at index 4\n",
      "Type of the variable <class 'tuple'>\n",
      "Length of the tuple 8\n",
      "Max element in the tuple 2\n"
     ]
    }
   ],
   "source": [
    "# Question-4\n",
    "\n",
    "a=input ('Input comma seperated  numbers : ')\n",
    "a = tuple(int(x) for x in a.split(\",\"))\n",
    "#count method\n",
    "n=int(input(\"Print the number whose count is to be checked \"))\n",
    "if(n in a):\n",
    "    print(a.count(n),\"times present\")\n",
    "else:\n",
    "    print(\"Not present\")\n",
    "#index method\n",
    "\n",
    "n=int(input(\"Enter the element to be whose index is to be found \"))\n",
    "print(\"Element present at index\",a.index(n))\n",
    "#type function\n",
    "print(\"Type of the variable\",type(a))\n",
    "#length function\n",
    "print(\"Length of the tuple\",len(a))\n",
    "#Max sunction\n",
    "print(\"Max element in the tuple\",max(a))"
   ]
  },
  {
   "cell_type": "code",
   "execution_count": null,
   "metadata": {
    "colab": {
     "base_uri": "https://localhost:8080/"
    },
    "id": "Gw_ufSK8fuUo",
    "outputId": "c9870271-c0e0-41bb-a436-a827f8ad5fbe"
   },
   "outputs": [
    {
     "name": "stdout",
     "output_type": "stream",
     "text": [
      "Enter employee name a\n",
      "Enter employee id 1\n",
      "Enter employee name b\n",
      "Enter employee id 2\n",
      "Enter employee name c\n",
      "Enter employee id 3\n",
      "Enter employee name d\n",
      "Enter employee id 4\n",
      "Enter employee name e\n",
      "Enter employee id 5\n",
      "Enter employee name f\n",
      "Enter employee id 6\n",
      "Enter employee name g\n",
      "Enter employee id 7\n",
      "Enter employee name h\n",
      "Enter employee id 8\n",
      "Enter employee name i\n",
      "Enter employee id 9\n",
      "Enter employee name j\n",
      "Enter employee id 10\n",
      "{'a': '1', 'b': '2', 'c': '3', 'd': '4', 'e': '5', 'f': '6', 'g': '7', 'h': '8', 'i': '9', 'j': '10'}\n"
     ]
    }
   ],
   "source": [
    "# Question-5\n",
    "\n",
    "n=10\n",
    "a={}\n",
    "for i in range(0,n):\n",
    "    x=input(\"Enter employee name \")\n",
    "    v=input(\"Enter employee id \")\n",
    "    a.update({x:v})\n",
    "print(a)"
   ]
  },
  {
   "cell_type": "code",
   "execution_count": null,
   "metadata": {
    "colab": {
     "base_uri": "https://localhost:8080/"
    },
    "id": "iPbBdOh8fvCZ",
    "outputId": "b3397751-a8ce-42de-f5ec-982af0fe8df8"
   },
   "outputs": [
    {
     "name": "stdout",
     "output_type": "stream",
     "text": [
      "Enter employee name abc\n",
      "Enter employee id 21\n",
      "Enter employee name def\n",
      "Enter employee id 32\n",
      "Enter employee name abcd\n",
      "Enter employee id 1\n",
      "Enter employee name qqq\n",
      "Enter employee id 99\n",
      "Enter employee name sayak\n",
      "Enter employee id 11\n",
      "Enter employee name ababa\n",
      "Enter employee id 12\n",
      "Enter employee name hhjhjhjh\n",
      "Enter employee id 13\n",
      "Enter employee name eeeeeeeee\n",
      "Enter employee id 66\n",
      "Enter employee name tutut\n",
      "Enter employee id 6767\n",
      "Enter employee name tuturururur\n",
      "Enter employee id 6789\n",
      "Add 5 more records\n",
      "Enter employee name a\n",
      "Enter employee id 31\n",
      "{'abc': '21', 'def': '32', 'abcd': '1', 'qqq': '99', 'sayak': '11', 'ababa': '12', 'hhjhjhjh': '13', 'eeeeeeeee': '66', 'tutut': '6767', 'tuturururur': '6789', 'a': '31'}\n",
      "Enter employee name b\n",
      "Enter employee id 32\n",
      "{'abc': '21', 'def': '32', 'abcd': '1', 'qqq': '99', 'sayak': '11', 'ababa': '12', 'hhjhjhjh': '13', 'eeeeeeeee': '66', 'tutut': '6767', 'tuturururur': '6789', 'a': '31', 'b': '32'}\n",
      "Enter employee name c\n",
      "Enter employee id 33\n",
      "{'abc': '21', 'def': '32', 'abcd': '1', 'qqq': '99', 'sayak': '11', 'ababa': '12', 'hhjhjhjh': '13', 'eeeeeeeee': '66', 'tutut': '6767', 'tuturururur': '6789', 'a': '31', 'b': '32', 'c': '33'}\n",
      "Enter employee name f\n",
      "Enter employee id 43\n",
      "{'abc': '21', 'def': '32', 'abcd': '1', 'qqq': '99', 'sayak': '11', 'ababa': '12', 'hhjhjhjh': '13', 'eeeeeeeee': '66', 'tutut': '6767', 'tuturururur': '6789', 'a': '31', 'b': '32', 'c': '33', 'f': '43'}\n",
      "Enter employee name g\n",
      "Enter employee id 45\n",
      "{'abc': '21', 'def': '32', 'abcd': '1', 'qqq': '99', 'sayak': '11', 'ababa': '12', 'hhjhjhjh': '13', 'eeeeeeeee': '66', 'tutut': '6767', 'tuturururur': '6789', 'a': '31', 'b': '32', 'c': '33', 'f': '43', 'g': '45'}\n",
      "Removing the last 2 elements\n",
      "{'abc': '21', 'def': '32', 'abcd': '1', 'qqq': '99', 'sayak': '11', 'ababa': '12', 'hhjhjhjh': '13', 'eeeeeeeee': '66', 'tutut': '6767', 'tuturururur': '6789', 'a': '31', 'b': '32', 'c': '33', 'f': '43'}\n",
      "{'abc': '21', 'def': '32', 'abcd': '1', 'qqq': '99', 'sayak': '11', 'ababa': '12', 'hhjhjhjh': '13', 'eeeeeeeee': '66', 'tutut': '6767', 'tuturururur': '6789', 'a': '31', 'b': '32', 'c': '33'}\n"
     ]
    }
   ],
   "source": [
    "# Question-6\n",
    "\n",
    "n=10\n",
    "a={}\n",
    "for i in range(0,n):\n",
    "    x=input(\"Enter employee name \")\n",
    "    v=input(\"Enter employee id \")\n",
    "    a.update({x:v})\n",
    "print(\"Add 5 more records\")\n",
    "for i in range(0,5):\n",
    "     x=input(\"Enter employee name \")\n",
    "     v=input(\"Enter employee id \")\n",
    "     a.update({x:v})\n",
    "     print(a)\n",
    "print(\"Removing the last 2 elements\")\n",
    "a.popitem()\n",
    "print(a)\n",
    "a.popitem()\n",
    "print(a)"
   ]
  },
  {
   "cell_type": "code",
   "execution_count": null,
   "metadata": {
    "colab": {
     "base_uri": "https://localhost:8080/"
    },
    "id": "suqrNShpfvss",
    "outputId": "2e270efe-ba17-4cc4-e83f-e9e0bc389f8d"
   },
   "outputs": [
    {
     "name": "stdout",
     "output_type": "stream",
     "text": [
      "Enter prod name a\n",
      "Enter price 10\n",
      "Enter prod name b\n",
      "Enter price 15\n",
      "Enter prod name c\n",
      "Enter price 5\n",
      "Enter prod name d\n",
      "Enter price 20\n",
      "Enter prod name e\n",
      "Enter price 25\n",
      "5\n",
      "All values in dictionary are: ['10', '15', '5', '20', '25']\n",
      "a = {}\n"
     ]
    }
   ],
   "source": [
    "# Question-7\n",
    "\n",
    "n=5\n",
    "a={}\n",
    "for i in range(0,n):\n",
    "    x=input(\"Enter prod name \")\n",
    "    v=input(\"Enter price \")\n",
    "    a.update({x:v})\n",
    "print(len(a))\n",
    "new_output = list(a.values())\n",
    "print(\"All values in dictionary are:\",new_output)\n",
    "a.clear()\n",
    "print('a =', a)"
   ]
  },
  {
   "cell_type": "code",
   "execution_count": null,
   "metadata": {
    "colab": {
     "base_uri": "https://localhost:8080/"
    },
    "id": "BV2_tYjYfwai",
    "outputId": "5b8b21ad-aeb9-41f8-93da-641bf82c964a"
   },
   "outputs": [
    {
     "name": "stdout",
     "output_type": "stream",
     "text": [
      "In reverse order :- \n",
      "\n",
      "December\n",
      "November\n",
      "October\n",
      "September\n",
      "August\n",
      "July\n",
      "June\n",
      "May\n",
      "April\n",
      "March\n",
      "February\n"
     ]
    }
   ],
   "source": [
    "# Question-8\n",
    "\n",
    "thisset = {\"January\", \"February\", \"March\",\"April\",\"May\",\"June\",\"July\",\"August\",\"September\",\"October\",\"November\",\"December\"}\n",
    "\n",
    "print(\"In reverse order :- \\n\")\n",
    "l=[\"January\", \"February\", \"March\",\"April\",\"May\",\"June\",\"July\",\"August\",\"September\",\"October\",\"November\",\"December\"]\n",
    "i=11\n",
    "while(i>0):\n",
    "    print(l[i])\n",
    "    i=i-1"
   ]
  },
  {
   "cell_type": "code",
   "execution_count": null,
   "metadata": {
    "colab": {
     "base_uri": "https://localhost:8080/"
    },
    "id": "gSCp2BYcfxI6",
    "outputId": "4ac81b52-88e3-4882-a0d7-96935ba34231"
   },
   "outputs": [
    {
     "name": "stdout",
     "output_type": "stream",
     "text": [
      "union  {1, 2, 3, 4, 5, 6, 7, 8, 9, 10}\n",
      "Intersection set()\n",
      "Subtraction {1, 2, 3, 4, 5}\n",
      "subtraction in the other way {6, 7, 8, 9, 10}\n"
     ]
    }
   ],
   "source": [
    "# Question-9\n",
    "\n",
    "a={1,2,3,4,5}\n",
    "b={6,7,8,9,10}\n",
    "print(\"union \",a.union(b))\n",
    "print(\"Intersection\",a.intersection(b))\n",
    "print(\"Subtraction\",a-b)\n",
    "print(\"subtraction in the other way\",b-a)"
   ]
  },
  {
   "cell_type": "code",
   "execution_count": null,
   "metadata": {
    "colab": {
     "base_uri": "https://localhost:8080/"
    },
    "id": "juoJM0qxfx3Q",
    "outputId": "d916add5-9a32-4bb4-df3c-db50c534ad5c"
   },
   "outputs": [
    {
     "name": "stdout",
     "output_type": "stream",
     "text": [
      "{'Wed', 'Mon', 'Sat', 'Fri', 'Sun', 'Thur'}\n",
      "{'Wed', 'Mon', 'Fri', 'Sun', 'Thur'}\n"
     ]
    }
   ],
   "source": [
    "# Question-10\n",
    "\n",
    "thisset = {\"Mon\",\"Tue\",\"Wed\",\"Thur\",\"Fri\",\"Sat\",\"Sun\"}\n",
    "thisset.remove(\"Tue\")\n",
    "print(thisset)\n",
    "thisset.remove(\"Sat\")\n",
    "print(thisset)"
   ]
  },
  {
   "cell_type": "markdown",
   "metadata": {},
   "source": [
    "# 1905276\n"
   ]
  }
 ],
 "metadata": {
  "colab": {
   "collapsed_sections": [],
   "name": "tnt lab6 practice.ipynb",
   "provenance": []
  },
  "kernelspec": {
   "display_name": "Python 3 (ipykernel)",
   "language": "python",
   "name": "python3"
  },
  "language_info": {
   "codemirror_mode": {
    "name": "ipython",
    "version": 3
   },
   "file_extension": ".py",
   "mimetype": "text/x-python",
   "name": "python",
   "nbconvert_exporter": "python",
   "pygments_lexer": "ipython3",
   "version": "3.9.7"
  }
 },
 "nbformat": 4,
 "nbformat_minor": 1
}
